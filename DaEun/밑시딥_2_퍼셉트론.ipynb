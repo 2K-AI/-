{
  "cells": [
    {
      "cell_type": "code",
      "source": [
        "import numpy as np"
      ],
      "metadata": {
        "id": "xGQt62WB3I97"
      },
      "execution_count": 9,
      "outputs": []
    },
    {
      "cell_type": "markdown",
      "source": [
        "- 편향 도입 전 AND 게이트"
      ],
      "metadata": {
        "id": "zPzQJ9QJ28pL"
      }
    },
    {
      "cell_type": "code",
      "source": [
        "def AND(x1, x2):\n",
        "  w1 , w2, theta = 0.5 , 0.5 , 0.7\n",
        "  tmp = x1*w1 + x2*w2\n",
        "  if tmp <= theta :\n",
        "    return 0\n",
        "  elif tmp > theta :\n",
        "    return 1"
      ],
      "metadata": {
        "id": "aASAL8y9yz7r"
      },
      "execution_count": 3,
      "outputs": []
    },
    {
      "cell_type": "code",
      "source": [
        "AND(0,0)\n",
        "AND(0,1)\n",
        "AND(1,0)\n",
        "AND(1,1)\n"
      ],
      "metadata": {
        "id": "qnR1G-eKy0jA",
        "outputId": "4534d594-de33-4dc1-80fe-e217bca5d533",
        "colab": {
          "base_uri": "https://localhost:8080/"
        }
      },
      "execution_count": 15,
      "outputs": [
        {
          "output_type": "execute_result",
          "data": {
            "text/plain": [
              "1"
            ]
          },
          "metadata": {},
          "execution_count": 15
        }
      ]
    },
    {
      "cell_type": "markdown",
      "source": [
        "- 편향 도입 후 논리회로"
      ],
      "metadata": {
        "id": "9KF7iZ732_97"
      }
    },
    {
      "cell_type": "code",
      "source": [
        "# AND 게이트\n",
        "def AND (x1, x2):\n",
        "  x = np.array([x1,x2])\n",
        "  w = np.array([0.5,0.5])\n",
        "  b= -0.7\n",
        "  tmp= np.sum(x * w) + b\n",
        "  if tmp <= 0 :\n",
        "    return 0\n",
        "  else :\n",
        "    return 1\n"
      ],
      "metadata": {
        "id": "MqqQFxCnzGBs"
      },
      "execution_count": 14,
      "outputs": []
    },
    {
      "cell_type": "code",
      "source": [
        "AND(0,0)\n",
        "AND(0,1)\n",
        "AND(1,0)\n",
        "AND(1,1)"
      ],
      "metadata": {
        "id": "D07pCT5d4bIf",
        "outputId": "2a27f2c3-394f-4c56-a1ca-dcd4f19d3cb0",
        "colab": {
          "base_uri": "https://localhost:8080/"
        }
      },
      "execution_count": 18,
      "outputs": [
        {
          "output_type": "execute_result",
          "data": {
            "text/plain": [
              "1"
            ]
          },
          "metadata": {},
          "execution_count": 18
        }
      ]
    },
    {
      "cell_type": "code",
      "source": [
        "# NAND 게이트\n",
        "def NAND (x1, x2):\n",
        "  x = np.array([x1,x2])\n",
        "  w = np.array([-0.5,-0.5])\n",
        "  b= 0.7\n",
        "  tmp= np.sum(x * w) + b\n",
        "  if tmp <= 0 :\n",
        "    return 0\n",
        "  else :\n",
        "    return 1"
      ],
      "metadata": {
        "id": "p6Z-b0Fd4J8u"
      },
      "execution_count": 29,
      "outputs": []
    },
    {
      "cell_type": "code",
      "source": [
        "NAND(0,0)\n",
        "NAND(0,1)\n",
        "NAND(1,0)\n",
        "NAND(1,1)"
      ],
      "metadata": {
        "id": "XC6pFPWN4Uac",
        "outputId": "83fed281-87c9-42bf-cc93-a1da8e17afe2",
        "colab": {
          "base_uri": "https://localhost:8080/"
        }
      },
      "execution_count": 30,
      "outputs": [
        {
          "output_type": "execute_result",
          "data": {
            "text/plain": [
              "0"
            ]
          },
          "metadata": {},
          "execution_count": 30
        }
      ]
    },
    {
      "cell_type": "code",
      "source": [
        "# OR 게이트\n",
        "def OR (x1, x2):\n",
        "  x = np.array([x1,x2])\n",
        "  w = np.array([0.5,0.5])\n",
        "  b= -0.2\n",
        "  tmp= np.sum(x * w) + b\n",
        "  if tmp <= 0 :\n",
        "    return 0\n",
        "  else :\n",
        "    return 1"
      ],
      "metadata": {
        "id": "GONhw8Bd4cxw"
      },
      "execution_count": 19,
      "outputs": []
    },
    {
      "cell_type": "code",
      "source": [
        "OR(0,0)\n",
        "OR(0,1)\n",
        "OR(1,0)\n",
        "OR(1,1)"
      ],
      "metadata": {
        "id": "BHQNLO8z44Wu",
        "outputId": "cd1d219c-f3e6-47e6-bbbf-e1e5cf0cfe78",
        "colab": {
          "base_uri": "https://localhost:8080/"
        }
      },
      "execution_count": 20,
      "outputs": [
        {
          "output_type": "execute_result",
          "data": {
            "text/plain": [
              "1"
            ]
          },
          "metadata": {},
          "execution_count": 20
        }
      ]
    },
    {
      "cell_type": "code",
      "source": [
        "def XOR(x1,x2):\n",
        "  s1 = NAND(x1,x2)\n",
        "  s2 = OR(x1,x2)\n",
        "  y = AND(s1,s2)\n",
        "  return y"
      ],
      "metadata": {
        "id": "SndUzSwx8u8D"
      },
      "execution_count": 24,
      "outputs": []
    },
    {
      "cell_type": "code",
      "source": [
        "XOR(0,0)\n",
        "XOR(1,0)"
      ],
      "metadata": {
        "id": "0o2Qh_Q18415",
        "outputId": "4cfe8ee8-18e9-458e-ea30-44ff7d1f3547",
        "colab": {
          "base_uri": "https://localhost:8080/"
        }
      },
      "execution_count": 33,
      "outputs": [
        {
          "output_type": "execute_result",
          "data": {
            "text/plain": [
              "1"
            ]
          },
          "metadata": {},
          "execution_count": 33
        }
      ]
    },
    {
      "cell_type": "code",
      "source": [],
      "metadata": {
        "id": "FYd1V1eF86Sd",
        "outputId": "253b2aae-82ff-43e0-f69f-b3c13944ffab",
        "colab": {
          "base_uri": "https://localhost:8080/"
        }
      },
      "execution_count": 32,
      "outputs": [
        {
          "output_type": "execute_result",
          "data": {
            "text/plain": [
              "1"
            ]
          },
          "metadata": {},
          "execution_count": 32
        }
      ]
    },
    {
      "cell_type": "code",
      "source": [],
      "metadata": {
        "id": "_f5T6Dni9LP6"
      },
      "execution_count": null,
      "outputs": []
    }
  ],
  "metadata": {
    "colab": {
      "name": "Colaboratory에 오신 것을 환영합니다",
      "toc_visible": true,
      "provenance": []
    },
    "kernelspec": {
      "display_name": "Python 3",
      "name": "python3"
    }
  },
  "nbformat": 4,
  "nbformat_minor": 0
}